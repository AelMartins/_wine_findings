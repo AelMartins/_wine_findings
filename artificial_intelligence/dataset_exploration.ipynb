{
  "nbformat": 4,
  "nbformat_minor": 0,
  "metadata": {
    "colab": {
      "provenance": []
    },
    "kernelspec": {
      "name": "python3",
      "display_name": "Python 3"
    },
    "language_info": {
      "name": "python"
    }
  },
  "cells": [
    {
      "cell_type": "markdown",
      "source": [
        "# Wine Findings (exploração do dataset)\n",
        "\n",
        "@autores<br>\n",
        "Henrique de Fraia Paschoal<br>\n",
        "Samuel Luiz Martins dos Santos<br>\n",
        "\n",
        "***\n",
        "\n",
        "## Panorama geral\n",
        "\n",
        "**Wine Findings** é uma aplicação multiplataforma que permita aos usuários prever a qualidade de um vinho e receber recomendações de harmonizações baseadas em seus gostos pessoais através de técnicas de mineração de dados que agrupam padrões e criam dashboards interativos a fim de explicar as relações dos dados com suas preferencias palativas, oferecendo assim uma experiência de descoberta e certeza de uma boa escolha, ajudando o usuário a encontrar vinhos que realmente correspondam ao seu perfil.\n",
        "\n",
        "O treinamento dos modelos de predição é feito em cima do dataset \"[Portuguese Wines Blog os Vinhos](https://www.kaggle.com/datasets/mariazhokhova/portuguese-wines-blog-os-vinhos)\" retirado do site [Kaggle.com](https://www.kaggle.com/).\n",
        "\n",
        "> NOTA<br>\n",
        "> Se estamos enganados e o seu tipo de licensa não permite usá-lo ou compartilhá-lo desta maneira, iremos remover o conteúdo caso requisitado.\n",
        "\n",
        "São quase três mil avaliações de vinhos coletados diretamente do blog \"[Os Vinhos](https://osvinhos.blogspot.com/)\" de diversos tipos e diversas regiões do mundo.\n",
        "\n",
        "Algumas colunas possuem conteúdo em português e os valores \"-1\", \"null\" ou \"-\" correspondem a dados não encontrados no blog. O álcool é calculado em porcentagem e os preços dos vinhos em euros. A pontuação da qualidade de cada vinho é definida entre 0 e 20.\n",
        "\n",
        "@informações do kaggle\n",
        "- Autor do dataset: [Luís Oliveira](https://data.world/loliveira1999)\n",
        "- Início da cobertura: 31/12/1964\n",
        "- Término da cobertura: 30/12/2018\n",
        "- Região de cobertura: Portugal\n",
        "- Fonte original: https://data.world/loliveira1999/portuguese-wine-dataset-from-blogosvinhos\n",
        "- Licensa: https://opendatacommons.org/licenses/dbcl/1-0/\n",
        "\n",
        "***"
      ],
      "metadata": {
        "id": "sRhc_jLKjeMH"
      }
    },
    {
      "cell_type": "markdown",
      "source": [
        "## Importando bibliotecas"
      ],
      "metadata": {
        "id": "3T-_IunSppIB"
      }
    },
    {
      "cell_type": "code",
      "execution_count": 8,
      "metadata": {
        "id": "EqYSZRbjiTgC",
        "colab": {
          "base_uri": "https://localhost:8080/"
        },
        "outputId": "9a7f9c9a-2338-446b-c5e9-ca3a5e7aebc1"
      },
      "outputs": [
        {
          "output_type": "stream",
          "name": "stdout",
          "text": [
            "\n",
            "Todas as bibliotecas importadas com sucesso\n"
          ]
        }
      ],
      "source": [
        "import pandas as pd\n",
        "import io\n",
        "\n",
        "from termcolor import colored\n",
        "from tabulate import tabulate\n",
        "\n",
        "print(colored('\\nTodas as bibliotecas importadas com sucesso', 'green'))"
      ]
    },
    {
      "cell_type": "markdown",
      "source": [
        "## Configurando as bibliotecas"
      ],
      "metadata": {
        "id": "JYMTr-ROsU7J"
      }
    },
    {
      "cell_type": "code",
      "source": [
        "pd.set_option('display.max_columns', None)\n",
        "\n",
        "print(colored('\\nTodas as bibliotecas configuradas com sucesso', 'green'))"
      ],
      "metadata": {
        "id": "fcdT-iQssdP8",
        "colab": {
          "base_uri": "https://localhost:8080/"
        },
        "outputId": "c4d41395-155e-43c5-bbe7-c2176bade833"
      },
      "execution_count": 2,
      "outputs": [
        {
          "output_type": "stream",
          "name": "stdout",
          "text": [
            "\n",
            "Todas as bibliotecas configuradas com sucesso\n"
          ]
        }
      ]
    },
    {
      "cell_type": "markdown",
      "source": [
        "## Importando dados"
      ],
      "metadata": {
        "id": "i1XLEPhRsmzR"
      }
    },
    {
      "cell_type": "code",
      "source": [
        "data = pd.read_csv('/content/dataset.csv')\n",
        "\n",
        "print(tabulate(data.head(5), headers='keys', tablefmt='fancy_grid'))\n"
      ],
      "metadata": {
        "id": "k1AyGmdrspHO",
        "colab": {
          "base_uri": "https://localhost:8080/"
        },
        "outputId": "a7519c6e-aa6a-47c6-f373-65bf53cb0de7"
      },
      "execution_count": 3,
      "outputs": [
        {
          "output_type": "stream",
          "name": "stdout",
          "text": [
            "╒════╤══════════════╤════════╤═══════════════════╤════════╤═════════╤═════════════════════════════════════════════════════════════════╤═════════════════════╤══════════════════════════════╤════════════════╤════════════════╤═══════════════════════════════╤═══════════════╤═══════════════╤════════════════════════════════════════════════════════════════════════════════════════════════════════════════════════════════════════════════════════════════════════════════════════════════════════════════════════════════════════════════════════════════════════════════════════════════════════════════════════════════════════════════════════════════════════════════════════════════════════════════════════════════════════════════════════════════════════════════════════════════════════════════════════╤════════════════════════════════════════════════════════════════════════════════════════════════════════════════════════════════════════════════════════════════════════════════════════════════════════════════════════════════════════════════════════════════════════════════════════════════════════════════════════════════════════════════════════════════════════════════════╤════════════════════════════════════════════════════════════════╕\n",
            "│    │   Unnamed: 0 │ Name   │ Region            │   Year │ Color   │ Castes                                                          │   AlcoholPercentage │ Producer                     │   MinimunPrice │   MaximumPrice │ Judge                         │   JudgeRating │ Date          │ JudgeNotes                                                                                                                                                                                                                                                                                                                                                                                                                                                                                                             │ Label                                                                                                                                                                                                                                                                                                                                                                              │ Link                                                           │\n",
            "╞════╪══════════════╪════════╪═══════════════════╪════════╪═════════╪═════════════════════════════════════════════════════════════════╪═════════════════════╪══════════════════════════════╪════════════════╪════════════════╪═══════════════════════════════╪═══════════════╪═══════════════╪════════════════════════════════════════════════════════════════════════════════════════════════════════════════════════════════════════════════════════════════════════════════════════════════════════════════════════════════════════════════════════════════════════════════════════════════════════════════════════════════════════════════════════════════════════════════════════════════════════════════════════════════════════════════════════════════════════════════════════════════════════════════════════╪════════════════════════════════════════════════════════════════════════════════════════════════════════════════════════════════════════════════════════════════════════════════════════════════════════════════════════════════════════════════════════════════════════════════════════════════════════════════════════════════════════════════════════════════════════════════════╪════════════════════════════════════════════════════════════════╡\n",
            "│  0 │            0 │ .Beb   │ Regional Alentejo │   2007 │ Rosé    │ Cabernet Sauvignon, Syrah e Touriga Nacional                    │                13.5 │ Tiago Mateus Cabaço e Cabaço │            4   │            7.5 │ Tiago Cabaço                  │          15.5 │ Dezembro 2008 │ Cor vermelha brilhante e aromas iniciais dominados por um apimentado que aliado às notas frutadas foram um conjunto bem interessante, na boca tem uma presença agradável, é fresco e delicado, sempre dominado por notas frutadas e com um final médio de comprimento mas persistente de sabor.                                                                                                                                                                                                                        │ Tem uma cor atraente e um aroma intenso a frutos vermelhos, cerejas e framboesas. Este Rosé é elaborado a partir das castas Cabernet Sauvignon, Syrah e Touriga Nacional. Na boca é seco, equilibrado, com uma acidez refrescante.                                                                                                                                                 │ https://osvinhos.blogspot.pt/2010/03/1232-beb-2007-rose.html   │\n",
            "├────┼──────────────┼────────┼───────────────────┼────────┼─────────┼─────────────────────────────────────────────────────────────────┼─────────────────────┼──────────────────────────────┼────────────────┼────────────────┼───────────────────────────────┼───────────────┼───────────────┼────────────────────────────────────────────────────────────────────────────────────────────────────────────────────────────────────────────────────────────────────────────────────────────────────────────────────────────────────────────────────────────────────────────────────────────────────────────────────────────────────────────────────────────────────────────────────────────────────────────────────────────────────────────────────────────────────────────────────────────────────────────────────────┼────────────────────────────────────────────────────────────────────────────────────────────────────────────────────────────────────────────────────────────────────────────────────────────────────────────────────────────────────────────────────────────────────────────────────────────────────────────────────────────────────────────────────────────────────────────────────┼────────────────────────────────────────────────────────────────┤\n",
            "│  1 │            1 │ .Beb   │ Regional Alentejo │   2009 │ Red     │ Cabernet Sauvignon, Syrah, Alicante Bouschet e Touriga Nacional │                14   │ Tiago Mateus Cabaço e Cabaço │            7.5 │           10   │ Susana Esteban                │          16   │ Novembro 2012 │ Cor avermelhada e nariz muito aromático, onde as notas de fruta vermelha combinadas com delicadas sugestões minerais e especiadas, formam um conjunto complexo e acima de tudo fresco, na boca é um vinho suave, muito equilibrado, com taninos redondos e uma textura sedutora, o paladar revela uma bela dose de fruta madura integrada com as subtis notas de barrica e diversas especiarias, o final de boca tem um comprimento ligeiramente acima da média e uma persistência mediana.                            │ A escolha criteriosa das melhores parcelas das castas Cabernet Sauvignon, Syrah, Alicante Bouschet e Touriga Nacional, aprimoradas em barricas de carvalho francês permite-nos apresentar este .beb de espírito vivo e ânimo forte. É um vinho sério e poderoso, denso e persuasivo… mas simultaneamente fresco e elegante, de final intenso e profundo.                           │ https://osvinhos.blogspot.pt/2013/08/2803-beb-2009-tinto.html  │\n",
            "├────┼──────────────┼────────┼───────────────────┼────────┼─────────┼─────────────────────────────────────────────────────────────────┼─────────────────────┼──────────────────────────────┼────────────────┼────────────────┼───────────────────────────────┼───────────────┼───────────────┼────────────────────────────────────────────────────────────────────────────────────────────────────────────────────────────────────────────────────────────────────────────────────────────────────────────────────────────────────────────────────────────────────────────────────────────────────────────────────────────────────────────────────────────────────────────────────────────────────────────────────────────────────────────────────────────────────────────────────────────────────────────────────────┼────────────────────────────────────────────────────────────────────────────────────────────────────────────────────────────────────────────────────────────────────────────────────────────────────────────────────────────────────────────────────────────────────────────────────────────────────────────────────────────────────────────────────────────────────────────────────┼────────────────────────────────────────────────────────────────┤\n",
            "│  2 │            2 │ .Beb   │ Regional Alentejo │   2010 │ Red     │ Cabernet Sauvignon, Syrah, Alicante Bouschet e Touriga Nacional │                14   │ Tiago Mateus Cabaço e Cabaço │            7.5 │           10   │ Tiago Cabaço                  │          16   │ Agosto 2013   │ Apresenta uma cor rubi agradavelmente concentrada no centro e uma auréola de tonalidade violácea, no nariz destacam-se os aromas florais aliados à fruta vermelha e a delicadas notas apimentadas e também diversas especiarias e nuances de barrica, na boca é um vinho equilibrado, atractivo e com uns taninos redondos, revela um paladar muito frutado e especiado, com delicadas sugestões apimentadas e de barrica, responsáveis pela complexidade do conjunto, o final de boca tem um comprimento médio/longo. │ A escolha criteriosa das melhores parcelas das castas Cabernet Sauvignon, Syrah, Alicante Bouschet e Touriga Nacional, aprimoradas em barricas de carvalho francês permite-nos apresentar este .beb de espírito vivo e ânimo forte. É um vinho sério e poderoso, denso e persuasivo… mas simultaneamente fresco e elegante, de final intenso e profundo.                           │ https://osvinhos.blogspot.pt/2014/01/2988-beb-2010-tinto.html  │\n",
            "├────┼──────────────┼────────┼───────────────────┼────────┼─────────┼─────────────────────────────────────────────────────────────────┼─────────────────────┼──────────────────────────────┼────────────────┼────────────────┼───────────────────────────────┼───────────────┼───────────────┼────────────────────────────────────────────────────────────────────────────────────────────────────────────────────────────────────────────────────────────────────────────────────────────────────────────────────────────────────────────────────────────────────────────────────────────────────────────────────────────────────────────────────────────────────────────────────────────────────────────────────────────────────────────────────────────────────────────────────────────────────────────────────────┼────────────────────────────────────────────────────────────────────────────────────────────────────────────────────────────────────────────────────────────────────────────────────────────────────────────────────────────────────────────────────────────────────────────────────────────────────────────────────────────────────────────────────────────────────────────────────┼────────────────────────────────────────────────────────────────┤\n",
            "│  3 │            3 │ .Beb   │ Regional Alentejo │   2011 │ White   │ Arinto, Roupeiro e Viognier                                     │                13.5 │ Tiago Mateus Cabaço e Cabaço │            7.5 │           10   │ Tiago Cabaço e Susana Esteban │          15.5 │ Setembro 2012 │ Cor amarela brilhante e nariz delicadamente marcado por notas de fruta tropical madura misturadas com um ligeiro mas fresco toque floral e uma mineralidade, que é capaz de conferir alguma complexidade ao conjunto, na boca é um vinho equilibrado, suave e de estrutura média, conta com um paladar frutado, bem como suavemente especiado, o final de boca é mediano, quer em termos de comprimento, quer na persistência.                                                                                         │ Associámos uma vinha muito velha de Roupeiro com a frescura do Arinto e a exuberância do Viognier, educadas por um estágio parcial de seis meses em carvalho francês, o que nos permitiu apresentar este .beb branco de espírito vivo e ânimo forte. É um vinho frutado mas muito sério, aromático, enérgico e profundo… sem nunca perder a frescura e elegância que o qualificam. │ https://osvinhos.blogspot.pt/2013/09/2820-beb-2011-branco.html │\n",
            "├────┼──────────────┼────────┼───────────────────┼────────┼─────────┼─────────────────────────────────────────────────────────────────┼─────────────────────┼──────────────────────────────┼────────────────┼────────────────┼───────────────────────────────┼───────────────┼───────────────┼────────────────────────────────────────────────────────────────────────────────────────────────────────────────────────────────────────────────────────────────────────────────────────────────────────────────────────────────────────────────────────────────────────────────────────────────────────────────────────────────────────────────────────────────────────────────────────────────────────────────────────────────────────────────────────────────────────────────────────────────────────────────────────┼────────────────────────────────────────────────────────────────────────────────────────────────────────────────────────────────────────────────────────────────────────────────────────────────────────────────────────────────────────────────────────────────────────────────────────────────────────────────────────────────────────────────────────────────────────────────────┼────────────────────────────────────────────────────────────────┤\n",
            "│  4 │            4 │ .Beb   │ Regional Alentejo │   2012 │ White   │ Encruzado, Verdelho e Viognier                                  │                13.5 │ Tiago Mateus Cabaço e Cabaço │            4   │            7.5 │ Tiago Cabaço e Susana Esteban │          16   │ Julho 2014    │ Apresenta uma cor amarela ligeiramente pálida e um nariz rico em aromas de fruta tropical e notas minerais, muito bem envolvidas com sugestivos apontamentos vegetais e florais, num fundo subtilmente marcado por alguma barrica, na boca é um vinho untuoso e equilibrado, com uma acidez bem presente e um paladar fresco, onde a fruta madura e suaves nuances de baunilha se misturam com elegantes notas minerais, o final de boca é relativamente prolongado.                                                   │ Associámos a estrutura e complexidade do Encruzado, a frescura do Verdelho e a exuberância do Viognier com um estágio parcial de seis meses em carvalho francês, o que nos permitiu apresentar este .beb branco de espírito vivo e ânimo forte. É um vinho frutado mas muito sério, aromático, enérgico e profundo… sem nunca perder a frescura e elegância que o qualificam.      │ https://osvinhos.blogspot.pt/2015/06/3639-beb-2012-branco.html │\n",
            "╘════╧══════════════╧════════╧═══════════════════╧════════╧═════════╧═════════════════════════════════════════════════════════════════╧═════════════════════╧══════════════════════════════╧════════════════╧════════════════╧═══════════════════════════════╧═══════════════╧═══════════════╧════════════════════════════════════════════════════════════════════════════════════════════════════════════════════════════════════════════════════════════════════════════════════════════════════════════════════════════════════════════════════════════════════════════════════════════════════════════════════════════════════════════════════════════════════════════════════════════════════════════════════════════════════════════════════════════════════════════════════════════════════════════════════════╧════════════════════════════════════════════════════════════════════════════════════════════════════════════════════════════════════════════════════════════════════════════════════════════════════════════════════════════════════════════════════════════════════════════════════════════════════════════════════════════════════════════════════════════════════════════════════╧════════════════════════════════════════════════════════════════╛\n"
          ]
        }
      ]
    },
    {
      "cell_type": "markdown",
      "source": [
        "### Descrição de cada atributo\n",
        "\n",
        "```\n",
        "- Unnamed: 0          → Seria o equivalente ao número indentificador (ID) de um dado.\n",
        "\n",
        "- Name                → Representa o nome do vinho.\n",
        "\n",
        "- Region              → Representa a região em que o vinho foi produzido.\n",
        "\n",
        "- Year                → Representa o ano em que o vinho foi produzido.\n",
        "\n",
        "- Color               → Representa a cor do vinho (branco, vermelho, rosé).\n",
        "\n",
        "- Castes              → Representa o tipo de safra utilizado na fabricação do vinho (o(s) tipo(s) de uva(s)).\n",
        "\n",
        "- AlcoholPercentage   → Representa a porcentagem de teor alcólico do vinho.\n",
        "\n",
        "- Producer            → Representa o nome do produtor do vinho.\n",
        "\n",
        "- MinimunPrice        → Representa o valor mínimo de preço já registrado para o vinho em euros.\n",
        "\n",
        "- MaximumPrice        → Representa o valor máximo de preço já regitrado para o vinho em euros.\n",
        "\n",
        "- Judge               → Representa o nome do(s) juís(es) que analisou(aram) o vinho.\n",
        "\n",
        "- JudgeRating         → Representa a nota dada pelo(s) juís(es) na avaliação do vinho.\n",
        "\n",
        "- Date                → Representa a data de avaliação do vinho.\n",
        "\n",
        "- JudgeNotes          → Representa a experiência sensorial que o(s) juís(es) obteve(ram) ao experimentar o vinho.\n",
        "\n",
        "- Label               → Representa a descrição do rótulo do vinho pelos seus produtores.\n",
        "\n",
        "- Link                → Representa o link da página web onde foram retirados os dados do vinho.\n",
        "```"
      ],
      "metadata": {
        "id": "rz-r_Xjt0YGi"
      }
    },
    {
      "cell_type": "markdown",
      "source": [
        "## Análise dos dados"
      ],
      "metadata": {
        "id": "vimC-YZCvRbs"
      }
    },
    {
      "cell_type": "code",
      "source": [
        "def display_dataset_info(data: pd.DataFrame, custom_missing: list = [\"null\", \"-1\", \"-\"]) -> pd.DataFrame:\n",
        "    \"\"\"\n",
        "    Exibe informações do dataset (data.info()) e os valores ausentes,\n",
        "    alinhando as contagens de missing values com as colunas apresentadas.\n",
        "\n",
        "    Parâmetros:\n",
        "      - data: DataFrame a ser analisado.\n",
        "      - custom_missing: Lista de valores que devem ser considerados como ausentes.\n",
        "\n",
        "    Retorna:\n",
        "      - DataFrame com valores ausentes substituídos por NaN.\n",
        "    \"\"\"\n",
        "    # Substitui os valores personalizados por NaN para padronizar as análises futuras\n",
        "    data_replaced = data.replace(custom_missing, pd.NA)\n",
        "\n",
        "    # Captura a saída do data.info() em um buffer de texto\n",
        "    buffer = io.StringIO()\n",
        "    data_replaced.info(buf=buffer)\n",
        "    info_text = [line.strip() for line in buffer.getvalue().split(\"\\n\") if line.strip()]\n",
        "\n",
        "    # Cria DataFrame com a contagem de valores ausentes por coluna\n",
        "    missing_counts = data_replaced.isna().sum().astype(int).reset_index()\n",
        "    missing_counts.columns = ['Coluna', 'Valores Ausentes']\n",
        "\n",
        "    # Encontra a linha onde a listagem das colunas inicia em info_text\n",
        "    start_idx = next(i for i, line in enumerate(info_text) if \"Column\" in line) + 2\n",
        "\n",
        "    # Alinha os valores ausentes com as informações de data.info()\n",
        "    aligned_missing = [\"\"] * start_idx + missing_counts[\"Valores Ausentes\"].astype(str).tolist()\n",
        "    aligned_missing += [\"\"] * (len(info_text) - len(aligned_missing))\n",
        "\n",
        "    # Cria DataFrame final para exibição\n",
        "    final_table = pd.DataFrame({\n",
        "        \"Info Dataset\": info_text,\n",
        "        \"Valores Ausentes\": aligned_missing\n",
        "    })\n",
        "\n",
        "    # Exibi a tabela formatada e a dimensão do dataset\n",
        "    print(tabulate(final_table, headers='keys', tablefmt='fancy_grid'))\n",
        "    print(\"\\nDimensão:\", data_replaced.shape)\n",
        "\n",
        "    # Retorna o DataFrame com os valores substituidos\n",
        "    return data_replaced\n",
        "\n",
        "data_replaced = display_dataset_info(data)\n"
      ],
      "metadata": {
        "colab": {
          "base_uri": "https://localhost:8080/"
        },
        "id": "xEL69i3B-2IW",
        "outputId": "d906da25-030f-44d8-e613-9a0f47730b53"
      },
      "execution_count": 12,
      "outputs": [
        {
          "output_type": "stream",
          "name": "stdout",
          "text": [
            "╒════╤════════════════════════════════════════════════╤════════════════════╕\n",
            "│    │ Info Dataset                                   │ Valores Ausentes   │\n",
            "╞════╪════════════════════════════════════════════════╪════════════════════╡\n",
            "│  0 │ <class 'pandas.core.frame.DataFrame'>          │                    │\n",
            "├────┼────────────────────────────────────────────────┼────────────────────┤\n",
            "│  1 │ RangeIndex: 2993 entries, 0 to 2992            │                    │\n",
            "├────┼────────────────────────────────────────────────┼────────────────────┤\n",
            "│  2 │ Data columns (total 16 columns):               │                    │\n",
            "├────┼────────────────────────────────────────────────┼────────────────────┤\n",
            "│  3 │ #   Column             Non-Null Count  Dtype   │                    │\n",
            "├────┼────────────────────────────────────────────────┼────────────────────┤\n",
            "│  4 │ ---  ------             --------------  -----  │                    │\n",
            "├────┼────────────────────────────────────────────────┼────────────────────┤\n",
            "│  5 │ 0   Unnamed: 0         2993 non-null   int64   │ 0                  │\n",
            "├────┼────────────────────────────────────────────────┼────────────────────┤\n",
            "│  6 │ 1   Name               2993 non-null   object  │ 0                  │\n",
            "├────┼────────────────────────────────────────────────┼────────────────────┤\n",
            "│  7 │ 2   Region             2989 non-null   object  │ 4                  │\n",
            "├────┼────────────────────────────────────────────────┼────────────────────┤\n",
            "│  8 │ 3   Year               2993 non-null   int64   │ 0                  │\n",
            "├────┼────────────────────────────────────────────────┼────────────────────┤\n",
            "│  9 │ 4   Color              2993 non-null   object  │ 0                  │\n",
            "├────┼────────────────────────────────────────────────┼────────────────────┤\n",
            "│ 10 │ 5   Castes             2967 non-null   object  │ 26                 │\n",
            "├────┼────────────────────────────────────────────────┼────────────────────┤\n",
            "│ 11 │ 6   AlcoholPercentage  2993 non-null   float64 │ 0                  │\n",
            "├────┼────────────────────────────────────────────────┼────────────────────┤\n",
            "│ 12 │ 7   Producer           2988 non-null   object  │ 5                  │\n",
            "├────┼────────────────────────────────────────────────┼────────────────────┤\n",
            "│ 13 │ 8   MinimunPrice       2993 non-null   float64 │ 0                  │\n",
            "├────┼────────────────────────────────────────────────┼────────────────────┤\n",
            "│ 14 │ 9   MaximumPrice       2993 non-null   float64 │ 0                  │\n",
            "├────┼────────────────────────────────────────────────┼────────────────────┤\n",
            "│ 15 │ 10  Judge              2950 non-null   object  │ 43                 │\n",
            "├────┼────────────────────────────────────────────────┼────────────────────┤\n",
            "│ 16 │ 11  JudgeRating        2993 non-null   float64 │ 0                  │\n",
            "├────┼────────────────────────────────────────────────┼────────────────────┤\n",
            "│ 17 │ 12  Date               2970 non-null   object  │ 23                 │\n",
            "├────┼────────────────────────────────────────────────┼────────────────────┤\n",
            "│ 18 │ 13  JudgeNotes         2992 non-null   object  │ 1                  │\n",
            "├────┼────────────────────────────────────────────────┼────────────────────┤\n",
            "│ 19 │ 14  Label              2456 non-null   object  │ 537                │\n",
            "├────┼────────────────────────────────────────────────┼────────────────────┤\n",
            "│ 20 │ 15  Link               2993 non-null   object  │ 0                  │\n",
            "├────┼────────────────────────────────────────────────┼────────────────────┤\n",
            "│ 21 │ dtypes: float64(4), int64(2), object(10)       │                    │\n",
            "├────┼────────────────────────────────────────────────┼────────────────────┤\n",
            "│ 22 │ memory usage: 374.3+ KB                        │                    │\n",
            "╘════╧════════════════════════════════════════════════╧════════════════════╛\n",
            "\n",
            "Dimensão: (2993, 16)\n"
          ]
        }
      ]
    },
    {
      "cell_type": "markdown",
      "source": [
        "NOTA\n",
        "\n",
        "_O dataset possui ao todo 2993 dados de entradas organizados em 16 colunas._\n",
        "\n",
        "_A coluna \"Unnamed: 0\" aparenta ser irrelevante para nossa análise dado que visa representar o ID dos dados._\n",
        "\n",
        "_As colunas \"Name\", \"Region\", \"Color\", \"Castes\", \"Producer\", \"Judge\", \"Date\", \"JudgeNotes\", \"Label\" e \"Link\" são tratados como objetos (no geral, texto ou outros tipos de dados que não são exatamente numéricos)._\n",
        "\n",
        "_Acredito que suas informações são relevantes para a aplicação e a avaliação final de cada vinho, portanto pode ser interessante encontrar padrões e transformar seus dados em novas colunas de tipo booleano (verdadeiro ou falso)._\n",
        "\n",
        "_A coluna \"Year\" é tratada como número inteiro e as colunas \"AlcoholPercentage\", \"MinimunPrice\", \"MaximumPrice\" e \"JudgeRating\" são tratados como números decimais._\n",
        "\n",
        "_Existem ao todo 639 dados faltando entre as colunas:_\n",
        "\n",
        "- _Year = 4_\n",
        "- _Castes = 26_\n",
        "- _Producer = 5_\n",
        "- _Judge = 43_\n",
        "- _Date = 23_\n",
        "- _JudgeNotes = 1_\n",
        "- _Label = 537_"
      ],
      "metadata": {
        "id": "6TlQoUMBLU7k"
      }
    },
    {
      "cell_type": "code",
      "source": [
        "print(\"\\nEstatísticas do Dataset:\")\n",
        "data_replaced.describe().T.style.background_gradient(axis=0)\n",
        "\"\"\"\n",
        "describe() nos dá uma visão rápida de como os dados estão distribuídos nas colunas numéricas do DataFrame.\n",
        "\n",
        "Estatísticas Geradas:\n",
        "\n",
        "  - count : Número de valores não ausentes em cada coluna.\n",
        "  - mean  : Média dos valores.\n",
        "  - std   : Desvio padrão, que indica a dispersão dos dados.\n",
        "  - min   : O valor mínimo.\n",
        "  - 25%   : O primeiro quartil (Q1), o valor abaixo do qual 25% dos dados estão.\n",
        "  - 50%   : O segundo quartil (Q2 ou mediana), o valor abaixo do qual 50% dos dados estão.\n",
        "  - 75%   : O terceiro quartil (Q3), o valor abaixo do qual 75% dos dados estão.\n",
        "  - max   : O valor máximo.\n",
        "\"\"\"\n"
      ],
      "metadata": {
        "colab": {
          "base_uri": "https://localhost:8080/",
          "height": 274
        },
        "id": "ImMtOBFFy5vu",
        "outputId": "2ff0e130-a5bf-48c7-a9a4-0e6e59fed0a7"
      },
      "execution_count": 13,
      "outputs": [
        {
          "output_type": "stream",
          "name": "stdout",
          "text": [
            "\n",
            "Estatísticas do Dataset:\n"
          ]
        },
        {
          "output_type": "execute_result",
          "data": {
            "text/plain": [
              "<pandas.io.formats.style.Styler at 0x7b235f876ad0>"
            ],
            "text/html": [
              "<style type=\"text/css\">\n",
              "#T_82da6_row0_col0, #T_82da6_row1_col0, #T_82da6_row1_col3, #T_82da6_row2_col0, #T_82da6_row2_col1, #T_82da6_row2_col2, #T_82da6_row2_col3, #T_82da6_row2_col5, #T_82da6_row2_col6, #T_82da6_row2_col7, #T_82da6_row3_col0, #T_82da6_row3_col1, #T_82da6_row3_col3, #T_82da6_row3_col4, #T_82da6_row3_col5, #T_82da6_row3_col6, #T_82da6_row4_col0, #T_82da6_row4_col1, #T_82da6_row4_col3, #T_82da6_row4_col4, #T_82da6_row4_col5, #T_82da6_row4_col6, #T_82da6_row5_col0, #T_82da6_row5_col1, #T_82da6_row5_col2, #T_82da6_row5_col3, #T_82da6_row5_col6, #T_82da6_row5_col7 {\n",
              "  background-color: #fff7fb;\n",
              "  color: #000000;\n",
              "}\n",
              "#T_82da6_row0_col1 {\n",
              "  background-color: #0570b0;\n",
              "  color: #f1f1f1;\n",
              "}\n",
              "#T_82da6_row0_col2, #T_82da6_row0_col3, #T_82da6_row0_col6, #T_82da6_row0_col7, #T_82da6_row1_col1, #T_82da6_row1_col4, #T_82da6_row1_col5 {\n",
              "  background-color: #023858;\n",
              "  color: #f1f1f1;\n",
              "}\n",
              "#T_82da6_row0_col4 {\n",
              "  background-color: #a7bddb;\n",
              "  color: #000000;\n",
              "}\n",
              "#T_82da6_row0_col5 {\n",
              "  background-color: #0771b1;\n",
              "  color: #f1f1f1;\n",
              "}\n",
              "#T_82da6_row1_col2 {\n",
              "  background-color: #e7e3f0;\n",
              "  color: #000000;\n",
              "}\n",
              "#T_82da6_row1_col6 {\n",
              "  background-color: #045483;\n",
              "  color: #f1f1f1;\n",
              "}\n",
              "#T_82da6_row1_col7 {\n",
              "  background-color: #2383ba;\n",
              "  color: #f1f1f1;\n",
              "}\n",
              "#T_82da6_row2_col4, #T_82da6_row5_col4, #T_82da6_row5_col5 {\n",
              "  background-color: #fef6fb;\n",
              "  color: #000000;\n",
              "}\n",
              "#T_82da6_row3_col2 {\n",
              "  background-color: #fef6fa;\n",
              "  color: #000000;\n",
              "}\n",
              "#T_82da6_row3_col7, #T_82da6_row4_col2 {\n",
              "  background-color: #f8f1f8;\n",
              "  color: #000000;\n",
              "}\n",
              "#T_82da6_row4_col7 {\n",
              "  background-color: #1278b4;\n",
              "  color: #f1f1f1;\n",
              "}\n",
              "</style>\n",
              "<table id=\"T_82da6\" class=\"dataframe\">\n",
              "  <thead>\n",
              "    <tr>\n",
              "      <th class=\"blank level0\" >&nbsp;</th>\n",
              "      <th id=\"T_82da6_level0_col0\" class=\"col_heading level0 col0\" >count</th>\n",
              "      <th id=\"T_82da6_level0_col1\" class=\"col_heading level0 col1\" >mean</th>\n",
              "      <th id=\"T_82da6_level0_col2\" class=\"col_heading level0 col2\" >std</th>\n",
              "      <th id=\"T_82da6_level0_col3\" class=\"col_heading level0 col3\" >min</th>\n",
              "      <th id=\"T_82da6_level0_col4\" class=\"col_heading level0 col4\" >25%</th>\n",
              "      <th id=\"T_82da6_level0_col5\" class=\"col_heading level0 col5\" >50%</th>\n",
              "      <th id=\"T_82da6_level0_col6\" class=\"col_heading level0 col6\" >75%</th>\n",
              "      <th id=\"T_82da6_level0_col7\" class=\"col_heading level0 col7\" >max</th>\n",
              "    </tr>\n",
              "  </thead>\n",
              "  <tbody>\n",
              "    <tr>\n",
              "      <th id=\"T_82da6_level0_row0\" class=\"row_heading level0 row0\" >Unnamed: 0</th>\n",
              "      <td id=\"T_82da6_row0_col0\" class=\"data row0 col0\" >2993.000000</td>\n",
              "      <td id=\"T_82da6_row0_col1\" class=\"data row0 col1\" >1496.000000</td>\n",
              "      <td id=\"T_82da6_row0_col2\" class=\"data row0 col2\" >864.149003</td>\n",
              "      <td id=\"T_82da6_row0_col3\" class=\"data row0 col3\" >0.000000</td>\n",
              "      <td id=\"T_82da6_row0_col4\" class=\"data row0 col4\" >748.000000</td>\n",
              "      <td id=\"T_82da6_row0_col5\" class=\"data row0 col5\" >1496.000000</td>\n",
              "      <td id=\"T_82da6_row0_col6\" class=\"data row0 col6\" >2244.000000</td>\n",
              "      <td id=\"T_82da6_row0_col7\" class=\"data row0 col7\" >2992.000000</td>\n",
              "    </tr>\n",
              "    <tr>\n",
              "      <th id=\"T_82da6_level0_row1\" class=\"row_heading level0 row1\" >Year</th>\n",
              "      <td id=\"T_82da6_row1_col0\" class=\"data row1 col0\" >2993.000000</td>\n",
              "      <td id=\"T_82da6_row1_col1\" class=\"data row1 col1\" >2000.924156</td>\n",
              "      <td id=\"T_82da6_row1_col2\" class=\"data row1 col2\" >127.122885</td>\n",
              "      <td id=\"T_82da6_row1_col3\" class=\"data row1 col3\" >-1.000000</td>\n",
              "      <td id=\"T_82da6_row1_col4\" class=\"data row1 col4\" >2005.000000</td>\n",
              "      <td id=\"T_82da6_row1_col5\" class=\"data row1 col5\" >2009.000000</td>\n",
              "      <td id=\"T_82da6_row1_col6\" class=\"data row1 col6\" >2013.000000</td>\n",
              "      <td id=\"T_82da6_row1_col7\" class=\"data row1 col7\" >2018.000000</td>\n",
              "    </tr>\n",
              "    <tr>\n",
              "      <th id=\"T_82da6_level0_row2\" class=\"row_heading level0 row2\" >AlcoholPercentage</th>\n",
              "      <td id=\"T_82da6_row2_col0\" class=\"data row2 col0\" >2993.000000</td>\n",
              "      <td id=\"T_82da6_row2_col1\" class=\"data row2 col1\" >13.405112</td>\n",
              "      <td id=\"T_82da6_row2_col2\" class=\"data row2 col2\" >0.939524</td>\n",
              "      <td id=\"T_82da6_row2_col3\" class=\"data row2 col3\" >-1.000000</td>\n",
              "      <td id=\"T_82da6_row2_col4\" class=\"data row2 col4\" >13.000000</td>\n",
              "      <td id=\"T_82da6_row2_col5\" class=\"data row2 col5\" >13.500000</td>\n",
              "      <td id=\"T_82da6_row2_col6\" class=\"data row2 col6\" >14.000000</td>\n",
              "      <td id=\"T_82da6_row2_col7\" class=\"data row2 col7\" >17.000000</td>\n",
              "    </tr>\n",
              "    <tr>\n",
              "      <th id=\"T_82da6_level0_row3\" class=\"row_heading level0 row3\" >MinimunPrice</th>\n",
              "      <td id=\"T_82da6_row3_col0\" class=\"data row3 col0\" >2993.000000</td>\n",
              "      <td id=\"T_82da6_row3_col1\" class=\"data row3 col1\" >9.657701</td>\n",
              "      <td id=\"T_82da6_row3_col2\" class=\"data row3 col2\" >8.548043</td>\n",
              "      <td id=\"T_82da6_row3_col3\" class=\"data row3 col3\" >-1.000000</td>\n",
              "      <td id=\"T_82da6_row3_col4\" class=\"data row3 col4\" >4.000000</td>\n",
              "      <td id=\"T_82da6_row3_col5\" class=\"data row3 col5\" >7.500000</td>\n",
              "      <td id=\"T_82da6_row3_col6\" class=\"data row3 col6\" >12.500000</td>\n",
              "      <td id=\"T_82da6_row3_col7\" class=\"data row3 col7\" >155.000000</td>\n",
              "    </tr>\n",
              "    <tr>\n",
              "      <th id=\"T_82da6_level0_row4\" class=\"row_heading level0 row4\" >MaximumPrice</th>\n",
              "      <td id=\"T_82da6_row4_col0\" class=\"data row4 col0\" >2993.000000</td>\n",
              "      <td id=\"T_82da6_row4_col1\" class=\"data row4 col1\" >14.688573</td>\n",
              "      <td id=\"T_82da6_row4_col2\" class=\"data row4 col2\" >40.881400</td>\n",
              "      <td id=\"T_82da6_row4_col3\" class=\"data row4 col3\" >-1.000000</td>\n",
              "      <td id=\"T_82da6_row4_col4\" class=\"data row4 col4\" >7.500000</td>\n",
              "      <td id=\"T_82da6_row4_col5\" class=\"data row4 col5\" >10.000000</td>\n",
              "      <td id=\"T_82da6_row4_col6\" class=\"data row4 col6\" >15.000000</td>\n",
              "      <td id=\"T_82da6_row4_col7\" class=\"data row4 col7\" >2150.000000</td>\n",
              "    </tr>\n",
              "    <tr>\n",
              "      <th id=\"T_82da6_level0_row5\" class=\"row_heading level0 row5\" >JudgeRating</th>\n",
              "      <td id=\"T_82da6_row5_col0\" class=\"data row5 col0\" >2993.000000</td>\n",
              "      <td id=\"T_82da6_row5_col1\" class=\"data row5 col1\" >15.639492</td>\n",
              "      <td id=\"T_82da6_row5_col2\" class=\"data row5 col2\" >1.130448</td>\n",
              "      <td id=\"T_82da6_row5_col3\" class=\"data row5 col3\" >-1.000000</td>\n",
              "      <td id=\"T_82da6_row5_col4\" class=\"data row5 col4\" >15.000000</td>\n",
              "      <td id=\"T_82da6_row5_col5\" class=\"data row5 col5\" >15.500000</td>\n",
              "      <td id=\"T_82da6_row5_col6\" class=\"data row5 col6\" >16.500000</td>\n",
              "      <td id=\"T_82da6_row5_col7\" class=\"data row5 col7\" >19.000000</td>\n",
              "    </tr>\n",
              "  </tbody>\n",
              "</table>\n"
            ]
          },
          "metadata": {},
          "execution_count": 13
        }
      ]
    }
  ]
}